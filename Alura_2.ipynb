{
  "nbformat": 4,
  "nbformat_minor": 0,
  "metadata": {
    "colab": {
      "provenance": [],
      "authorship_tag": "ABX9TyPYoWv/czBxviYgpx3Thi6C",
      "include_colab_link": true
    },
    "kernelspec": {
      "name": "python3",
      "display_name": "Python 3"
    },
    "language_info": {
      "name": "python"
    }
  },
  "cells": [
    {
      "cell_type": "markdown",
      "metadata": {
        "id": "view-in-github",
        "colab_type": "text"
      },
      "source": [
        "<a href=\"https://colab.research.google.com/github/luizamelchor/chatbot_gemini/blob/main/Alura_2.ipynb\" target=\"_parent\"><img src=\"https://colab.research.google.com/assets/colab-badge.svg\" alt=\"Open In Colab\"/></a>"
      ]
    },
    {
      "cell_type": "code",
      "execution_count": null,
      "metadata": {
        "id": "y1DMbDBhzq-V"
      },
      "outputs": [],
      "source": [
        "%pip -q install google-genai"
      ]
    },
    {
      "cell_type": "code",
      "source": [
        "!pip -q install google-adk"
      ],
      "metadata": {
        "id": "sGXBq45_D6GQ"
      },
      "execution_count": null,
      "outputs": []
    },
    {
      "cell_type": "code",
      "source": [
        "# Configura a API Key do Google Gemini\n",
        "\n",
        "import os\n",
        "from google.colab import userdata\n",
        "\n",
        "os.environ[\"GOOGLE_API_KEY\"] = userdata.get('GOOGLE_API_KEY')"
      ],
      "metadata": {
        "id": "kA0PXptmPQHT"
      },
      "execution_count": null,
      "outputs": []
    },
    {
      "cell_type": "code",
      "source": [
        "# Configura o cliente da SDK do Gemini\n",
        "\n",
        "import google.generativeai as genai\n",
        "\n",
        "# client = genai.Client()\n",
        "\n",
        "MODEL_ID = \"gemini-pro\""
      ],
      "metadata": {
        "id": "nVNCzM0lVwWu"
      },
      "execution_count": null,
      "outputs": []
    },
    {
      "cell_type": "code",
      "source": [
        "# Importação de biliotecas de linguagem natural\n",
        "import spacy\n",
        "import nltk\n",
        "\n",
        "# Importação de bibliotecas de geração de texto e tradução\n",
        "import transformers\n",
        "\n",
        "# Importação de outras bibliotecas úteis\n",
        "import random"
      ],
      "metadata": {
        "id": "IWKnpqXsU7nW"
      },
      "execution_count": null,
      "outputs": []
    },
    {
      "cell_type": "code",
      "source": [
        "# Instalar Framework de agentes do Google ################################################\n",
        "!pip install -q google-adk"
      ],
      "metadata": {
        "colab": {
          "base_uri": "https://localhost:8080/"
        },
        "id": "gvt-8wW6WPzA",
        "outputId": "7a296cf5-dc88-4b96-99cb-cacf336dde98"
      },
      "execution_count": null,
      "outputs": [
        {
          "output_type": "stream",
          "name": "stdout",
          "text": [
            "\u001b[?25l   \u001b[90m━━━━━━━━━━━━━━━━━━━━━━━━━━━━━━━━━━━━━━━━\u001b[0m \u001b[32m0.0/1.2 MB\u001b[0m \u001b[31m?\u001b[0m eta \u001b[36m-:--:--\u001b[0m\r\u001b[2K   \u001b[91m━━━━━━━━━━━━━\u001b[0m\u001b[90m╺\u001b[0m\u001b[90m━━━━━━━━━━━━━━━━━━━━━━━━━━\u001b[0m \u001b[32m0.4/1.2 MB\u001b[0m \u001b[31m13.7 MB/s\u001b[0m eta \u001b[36m0:00:01\u001b[0m\r\u001b[2K   \u001b[90m━━━━━━━━━━━━━━━━━━━━━━━━━━━━━━━━━━━━━━━━\u001b[0m \u001b[32m1.2/1.2 MB\u001b[0m \u001b[31m17.6 MB/s\u001b[0m eta \u001b[36m0:00:00\u001b[0m\n",
            "\u001b[?25h\u001b[?25l   \u001b[90m━━━━━━━━━━━━━━━━━━━━━━━━━━━━━━━━━━━━━━━━\u001b[0m \u001b[32m0.0/232.1 kB\u001b[0m \u001b[31m?\u001b[0m eta \u001b[36m-:--:--\u001b[0m\r\u001b[2K   \u001b[90m━━━━━━━━━━━━━━━━━━━━━━━━━━━━━━━━━━━━━━━━\u001b[0m \u001b[32m232.1/232.1 kB\u001b[0m \u001b[31m13.4 MB/s\u001b[0m eta \u001b[36m0:00:00\u001b[0m\n",
            "\u001b[2K   \u001b[90m━━━━━━━━━━━━━━━━━━━━━━━━━━━━━━━━━━━━━━━━\u001b[0m \u001b[32m95.2/95.2 kB\u001b[0m \u001b[31m6.3 MB/s\u001b[0m eta \u001b[36m0:00:00\u001b[0m\n",
            "\u001b[2K   \u001b[90m━━━━━━━━━━━━━━━━━━━━━━━━━━━━━━━━━━━━━━━━\u001b[0m \u001b[32m217.1/217.1 kB\u001b[0m \u001b[31m14.1 MB/s\u001b[0m eta \u001b[36m0:00:00\u001b[0m\n",
            "\u001b[2K   \u001b[90m━━━━━━━━━━━━━━━━━━━━━━━━━━━━━━━━━━━━━━━━\u001b[0m \u001b[32m334.1/334.1 kB\u001b[0m \u001b[31m21.8 MB/s\u001b[0m eta \u001b[36m0:00:00\u001b[0m\n",
            "\u001b[2K   \u001b[90m━━━━━━━━━━━━━━━━━━━━━━━━━━━━━━━━━━━━━━━━\u001b[0m \u001b[32m125.1/125.1 kB\u001b[0m \u001b[31m9.3 MB/s\u001b[0m eta \u001b[36m0:00:00\u001b[0m\n",
            "\u001b[2K   \u001b[90m━━━━━━━━━━━━━━━━━━━━━━━━━━━━━━━━━━━━━━━━\u001b[0m \u001b[32m65.8/65.8 kB\u001b[0m \u001b[31m4.6 MB/s\u001b[0m eta \u001b[36m0:00:00\u001b[0m\n",
            "\u001b[2K   \u001b[90m━━━━━━━━━━━━━━━━━━━━━━━━━━━━━━━━━━━━━━━━\u001b[0m \u001b[32m119.0/119.0 kB\u001b[0m \u001b[31m8.5 MB/s\u001b[0m eta \u001b[36m0:00:00\u001b[0m\n",
            "\u001b[2K   \u001b[90m━━━━━━━━━━━━━━━━━━━━━━━━━━━━━━━━━━━━━━━━\u001b[0m \u001b[32m194.9/194.9 kB\u001b[0m \u001b[31m13.4 MB/s\u001b[0m eta \u001b[36m0:00:00\u001b[0m\n",
            "\u001b[2K   \u001b[90m━━━━━━━━━━━━━━━━━━━━━━━━━━━━━━━━━━━━━━━━\u001b[0m \u001b[32m62.5/62.5 kB\u001b[0m \u001b[31m4.4 MB/s\u001b[0m eta \u001b[36m0:00:00\u001b[0m\n",
            "\u001b[2K   \u001b[90m━━━━━━━━━━━━━━━━━━━━━━━━━━━━━━━━━━━━━━━━\u001b[0m \u001b[32m103.3/103.3 kB\u001b[0m \u001b[31m7.1 MB/s\u001b[0m eta \u001b[36m0:00:00\u001b[0m\n",
            "\u001b[2K   \u001b[90m━━━━━━━━━━━━━━━━━━━━━━━━━━━━━━━━━━━━━━━━\u001b[0m \u001b[32m44.4/44.4 kB\u001b[0m \u001b[31m3.0 MB/s\u001b[0m eta \u001b[36m0:00:00\u001b[0m\n",
            "\u001b[2K   \u001b[90m━━━━━━━━━━━━━━━━━━━━━━━━━━━━━━━━━━━━━━━━\u001b[0m \u001b[32m72.0/72.0 kB\u001b[0m \u001b[31m5.3 MB/s\u001b[0m eta \u001b[36m0:00:00\u001b[0m\n",
            "\u001b[?25h"
          ]
        }
      ]
    },
    {
      "cell_type": "code",
      "source": [
        "from google.adk.agents import Agent\n",
        "from google.adk.runners import Runner\n",
        "from google.adk.sessions import InMemorySessionService\n",
        "from google.adk.tools import google_search\n",
        "from google.genai import types  # Para criar conteúdos (Content e Part)\n",
        "from datetime import date\n",
        "import textwrap # Para formatar melhor a saída de texto\n",
        "from IPython.display import display, Markdown # Para exibir texto formatado no Colab\n",
        "import requests # Para fazer requisições HTTP\n",
        "import warnings\n",
        "\n",
        "warnings.filterwarnings(\"ignore\")"
      ],
      "metadata": {
        "id": "6rFHlYRUXqfc"
      },
      "execution_count": null,
      "outputs": []
    },
    {
      "cell_type": "code",
      "source": [
        "################### AGENTE 1 ###################\n",
        "def agente_conversacao(topico):\n",
        "  conversacao = Agent(\n",
        "      name='agente_conversacao',\n",
        "      model='gemini-2.0-flash',\n",
        "      instruction=\"\"\"\n",
        "        Você é um amigo para o usuário que está aprendendo alemão. Seja simpático e encorajador.\n",
        "        Sua principal função é manter uma conversa descontraída em alemão com o usuário, adaptando o nível de\n",
        "         dificuldade ao nível de proficiência dele.\n",
        "        **Na sua primeira interação, pergunte ao usuário sobre o seu nível de alemão (básico, intermediário ou\n",
        "        avançado) para que você possa começar a conversar em um nível adequado.**\n",
        "        Responda em alemão e português até que o usuário diga explicitamente que só quer que você use alemão.\n",
        "        Pergunte ao usuário se ele tem alguma dúvida sobre termos durante a conversa.\n",
        "        Se o usuário pedir ajuda com gramática, vocabulário ou curiosidades, sugira educadamente que ele encerre\n",
        "        a conversa e volte ao menu principal para escolher a opção correspondente.\n",
        "\n",
        "      \"\"\",\n",
        "      description='Agente que conversa com o usuário em Alemão, de acordo com o nível do mesmo'\n",
        "  )\n",
        "  return conversacao # Retorna o objeto Agent"
      ],
      "metadata": {
        "id": "-5N7cyHujITi"
      },
      "execution_count": null,
      "outputs": []
    },
    {
      "cell_type": "code",
      "source": [
        "################### Agente 2 ###################\n",
        "def agente_gramatica(topico):\n",
        "  gramatica = Agent(\n",
        "      name='agente_gramatica',\n",
        "      model='gemini-2.5-pro-exp-03-25',\n",
        "      instruction=\"\"\"\n",
        "        Você é um amigo para o usuário que está aprendendo alemão. Seja simpático e encorajador.\n",
        "        Sua principal função é explicar de forma descontraída e simples regras gramaticais em alemão para o usuário, adaptando o nível de\n",
        "        dificuldade ao nível de proficiência dele.\n",
        "        Se o usuário errar alguma coisa, corrijá-lo de forma leve e simples.\n",
        "        Não use jargões de linguística, ao menos que o usuário pergunte por algo mais específico.\n",
        "        Responda em alemão e português até que o usuário diga explicitamente que só quer que você use alemão.\n",
        "      \"\"\",\n",
        "      description='Agente que explica regras gramaticais do alemão, de acordo com o nível do mesmo'\n",
        "  )\n",
        "  return gramatica # Retorna o objeto Agent"
      ],
      "metadata": {
        "id": "aqQzyOfBjT4n"
      },
      "execution_count": null,
      "outputs": []
    },
    {
      "cell_type": "code",
      "source": [
        "################### Agente 3 ###################\n",
        "def agente_vocabulario(topico):\n",
        "  vocabulario = Agent(\n",
        "      name='agente_vocabulario',\n",
        "      model='gemini-2.0-flash',\n",
        "      instruction=\"\"\"\n",
        "        Você é um amigo para o usuário que está aprendendo alemão. Seja simpático e encorajador.\n",
        "        Sua principal função é apresentar de forma descontraída e simples palavras e expressões em alemão para o usuário de acordo com o nível de\n",
        "        dificuldade dele e escolha de categorias.\n",
        "      \"\"\",\n",
        "      description='Agente que apresenta novas palavras para o usuário expandir seu conhecimento em alemão.'\n",
        "  )\n",
        "  return vocabulario # Retorna o objeto Agent"
      ],
      "metadata": {
        "id": "NnStGVJNjVZt"
      },
      "execution_count": null,
      "outputs": []
    },
    {
      "cell_type": "code",
      "source": [
        "################### Agente 4 ###################\n",
        "def agente_curiosidades(topico):\n",
        "  curiosidades = Agent(\n",
        "      name='agente_curiosidades',\n",
        "      model='gemini-2.0-flash',\n",
        "      instruction= \"\"\"\n",
        "      Você é um grande conhecedor dos países/regiões que falam alemão como língua\n",
        "      oficial e não oficial. Isto inclui: Alemanha, Suíça, Austria, Bélgica, Luxemburgo,\n",
        "      Liechtenstein, Südtirol, Oppeln e Voivodia da Silésia.\n",
        "      Conte curiosidades que o usuário provavelmente não saiba sobre esses lugares e como\n",
        "      a língua muda de acordo com a região que é falada.\n",
        "      Conte curiosidades sobre os diferentes sotaques, regras gramáticas, regras ortográficas,\n",
        "      entre outros tópicos para o usuário.\n",
        "      \"\"\",\n",
        "      description='Agente que é um grande entusiasta da língua alemã nas diversas localidades que ela está presente'\n",
        "  )\n",
        "  return curiosidades # Retorna o objeto Agent"
      ],
      "metadata": {
        "id": "-uc2dr29jWKO"
      },
      "execution_count": null,
      "outputs": []
    },
    {
      "cell_type": "code",
      "source": [
        "# As listas de exercícios como exercicios_casos, exercicios_verbos_regulares, etc\n",
        "exercicios_casos = [\n",
        "    {\n",
        "        \"pergunta\": \"Complete a frase: Der Mann gibt ___ Frau einen Blumenstrauß. (a)\",\n",
        "        \"resposta\": \"der\"\n",
        "    },\n",
        "    {\n",
        "        \"pergunta\": \"Escolha o caso correto para o pronome: Ich helfe ___ (du).\",\n",
        "        \"opcoes\": [\"dich\", \"dir\", \"dein\"],\n",
        "        \"resposta\": \"dir\"\n",
        "    },\n",
        "    {\n",
        "        \"pergunta\": \"Reorganize as palavras: dem, Haus, in, wohnt, Er.\",\n",
        "        \"resposta\": \"Er wohnt in dem Haus.\"\n",
        "    },\n",
        "    {\n",
        "        \"pergunta\": \"Reorganize as palavras: dem, Haus, in, wohnt, Er.\",\n",
        "        \"resposta\": \"Er wohnt in dem Haus.\"\n",
        "    },\n",
        "    {\n",
        "        \"pergunta\": \"Qual é o caso do substantivo “dem Haus” na frase anterior?\",\n",
        "        \"opcoes\": [\"Nominativ\", \"Akkusativ\", \"Dativ\", \"Genitiv\"],\n",
        "        \"resposta\": \"Dativ\"\n",
        "    },\n",
        "    {\n",
        "        \"pergunta\": \"Complete: ___ (die) Katze schläft auf dem Sofa.\",\n",
        "        \"resposta\": \"Die\"\n",
        "    }\n",
        "]\n",
        "\n",
        "exercicios_verbos_regulares = [\n",
        "    {\"pergunta\": \"Conjugue 'machen' na primeira pessoa do singular (ich):\", \"resposta\": \"mache\"},\n",
        "    {\"pergunta\": \"Complete: Wir ___ (spielen) Fußball.\", \"resposta\": \"spielen\"},\n",
        "    {\"pergunta\": \"Qual a terminação correta para a terceira pessoa do singular (-er) do verbo 'fragen' no Präsens?\", \"resposta\": \"t\"},\n",
        "    {\"pergunta\": \"Conjugue 'lernen' na segunda pessoa do plural (ihr) no Präsens:\", \"resposta\": \"lernt\"},\n",
        "    {\"pergunta\": \"Traduza para o alemão: 'Eu pergunto'. (usando 'fragen')\", \"resposta\": \"Ich frage\"}\n",
        "]\n",
        "\n",
        "exercicios_verbos_irregulares = [\n",
        "    {\"pergunta\": \"Conjugue 'sprechen' na segunda pessoa do singular (du) no Präsens:\", \"resposta\": \"sprichst\"},\n",
        "    {\"pergunta\": \"Complete a frase: Sie ___ (lesen) ein Buch.\", \"resposta\": \"liest\"},\n",
        "    {\"pergunta\": \"Qual a mudança de vogal ocorre no verbo 'fahren' na segunda pessoa do singular (du) no Präsens?\", \"resposta\": \"ä\"},\n",
        "    {\"pergunta\": \"Conjugue 'sehen' na terceira pessoa do plural (sie - eles/elas) no Präsens:\", \"resposta\": \"sehen\"},\n",
        "    {\"pergunta\": \"Traduza para o alemão: 'Ele come'. (usando 'essen')\", \"resposta\": \"Er isst\"}\n",
        "]\n",
        "\n",
        "exercicios_artigos = [\n",
        "    {\"pergunta\": \"Qual é o artigo definido nominativo masculino?\", \"resposta\": \"der\"},\n",
        "    {\"pergunta\": \"Complete a frase no Akkusativ: Ich sehe ___ (ein) Mann.\", \"resposta\": \"einen\"},\n",
        "    {\"pergunta\": \"Qual é o artigo indefinido dativo feminino?\", \"resposta\": \"einer\"},\n",
        "    {\"pergunta\": \"Complete a frase no Nominativ plural: ___ (die) Kinder spielen.\", \"resposta\": \"Die\"},\n",
        "    {\"pergunta\": \"Qual artigo (definido ou indefinido) usar para 'um livro qualquer' no Akkusativ?\", \"resposta\": \"einen\"}\n",
        "]\n",
        "\n",
        "exercicios_ordem_palavras_principal = [\n",
        "    {\"pergunta\": \"Reorganize: heute, Ich, ins Kino, gehe.\", \"resposta\": \"Ich gehe heute ins Kino.\"},\n",
        "    {\"pergunta\": \"Complete: ___ (Er) liest ein Buch.\", \"resposta\": \"Er\"},\n",
        "    {\"pergunta\": \"Onde geralmente o verbo conjugado se encontra em uma frase principal?\", \"resposta\": \"zweite Position\"},\n",
        "    {\"pergunta\": \"Reorganize: den, Lehrer, fragt, der Schüler.\", \"resposta\": \"Der Schüler fragt den Lehrer.\"},\n",
        "    {\"pergunta\": \"Traduza para o alemão (atenção à ordem): 'Ela bebe café de manhã'.\", \"resposta\": \"Sie trinkt Kaffee am Morgen.\"}\n",
        "]\n",
        "\n",
        "exercicios_ordem_palavras_subordinada = [\n",
        "    {\"pergunta\": \"Complete a conjunção: Ich weiß, ___ du müde bist.\", \"resposta\": \"dass\"},\n",
        "    {\"pergunta\": \"Onde o verbo conjugado se encontra geralmente em uma oração subordinada?\", \"resposta\": \"am Ende\"},\n",
        "    {\"pergunta\": \"Reorganize: weil, hat, keine Zeit, er.\", \"resposta\": \"weil er keine Zeit hat\"},\n",
        "    {\"pergunta\": \"Qual conjunção subordinada significa 'quando'?\", \"resposta\": \"wenn\"},\n",
        "    {\"pergunta\": \"Complete: Er fragt, ob ___ (wir) kommen.\", \"resposta\": \"wir kommen\"}\n",
        "]"
      ],
      "metadata": {
        "id": "I8MkYhHMTA8B"
      },
      "execution_count": null,
      "outputs": []
    },
    {
      "cell_type": "code",
      "source": [
        "################### FUNÇÕES ###################\n",
        "\n",
        "# Crie uma instância do SessionService e Runner\n",
        "session_service = InMemorySessionService()\n",
        "runner = Runner(\n",
        "    session_service=session_service,\n",
        "    app_name=\"GermanTutorApp\",\n",
        "    agents=[\n",
        "        agente_conversacao,\n",
        "        agente_gramatica,\n",
        "        agente_vocabulario,\n",
        "        agente_curiosidades\n",
        "    ]\n",
        ")\n",
        "\n",
        "# Formatação de texto para markdown\n",
        "def md(texto):\n",
        "  display(Markdown(texto))\n",
        "\n",
        "# Exibição do menu principal\n",
        "def exibir_menu():\n",
        "  md('**Você quer aprender sobre qual tópico hoje?**')\n",
        "  md('1. **Conversação:** Aprenda frases úteis para o dia a dia')\n",
        "  md('2. **Gramática:** Entenda as regras básicas da língua')\n",
        "  md('3. **Vocabulário:** Descubra novas palavras e expressões')\n",
        "  md('4. **Curiosidades:** Explore a cultura alemã!')\n",
        "  md('**Por favor, digite o número da sua escolha:**')\n",
        "\n",
        "# Escolha da opção 1: Conversação\n",
        "def lidar_conversacao():\n",
        "    md('## 💬 Conversando em Alemão')\n",
        "    primeira_mensagem_agente = 'Hallo! Antes de começarmos, me diga o seu nível de proficiência em alemão (básico, intermediário ou avançado)? '\n",
        "    md(f\"**Agente:** {primeira_mensagem_agente}\")\n",
        "    historico_chat = []\n",
        "    model = genai.GenerativeModel('gemini-2.0-flash')\n",
        "    historico_chat.append({'role': 'model', 'parts': [primeira_mensagem_agente]})\n",
        "    while True:\n",
        "        pergunta_usuario = input(\"Você: \")\n",
        "        historico_chat.append({'role': 'user', 'parts': [pergunta_usuario]})\n",
        "\n",
        "        response = model.generate_content(historico_chat)\n",
        "        resposta_agente = response.text\n",
        "        md(f\"**Agente:** {resposta_agente}\")\n",
        "        historico_chat.append({'role': 'model', 'parts': [resposta_agente]})\n",
        "\n",
        "        if pergunta_usuario.lower() == \"encerrar conversa\":\n",
        "            md(\"Foi bom conversar com você! 👋\")\n",
        "            break\n",
        "\n",
        "# Escolha da opção 2: Gramática\n",
        "def lidar_gramatica():\n",
        "    md('## ✏️ Aprendendo a gramática Alemã')\n",
        "    topicos_gramatica = {\n",
        "      1: {\"nome\": \"Os Casos\", \"exercicios\": exercicios_casos},\n",
        "      2: {\"nome\": \"Conjugação de Verbos Regulares\", \"exercicios\": exercicios_verbos_regulares},\n",
        "      3: {\"nome\": \"Conjugação de Verbos Irregulares (Fortes)\", \"exercicios\": exercicios_verbos_irregulares},\n",
        "      4: {\"nome\": \"Artigos Definidos e Indefinidos\", \"exercicios\": exercicios_artigos},\n",
        "      5: {\"nome\": \"Ordem das Palavras na Frase Principal\", \"exercicios\": exercicios_ordem_palavras_principal},\n",
        "      6: {\"nome\": \"Ordem das Palavras na Oração Subordinada\", \"exercicios\": exercicios_ordem_palavras_subordinada},\n",
        "    }\n",
        "    md(\"Escolha um tópico gramatical para estudar:\")\n",
        "    for numero, topico in topicos_gramatica.items():\n",
        "        md(f\"{numero}. **{topico['nome']}**\")\n",
        "    md(\"**Digite o número do tópico desejado ou 'voltar' para o menu:**\")\n",
        "\n",
        "    while True:\n",
        "        escolha_topico = input(\"Você: \").lower()\n",
        "        if escolha_topico.isdigit() and int(escolha_topico) in topicos_gramatica:\n",
        "            topico_escolhido = topicos_gramatica[int(escolha_topico)]\n",
        "            if topico_escolhido[\"exercicios\"]:\n",
        "                exercicio = random.choice(topico_escolhido[\"exercicios\"])\n",
        "                md(f\"### {topico_escolhido['nome']}\")\n",
        "                md(exercicio[\"pergunta\"])\n",
        "                resposta_usuario = input(\"Sua resposta: \")\n",
        "                 # Lógica modificada para aceitar \"ss\" como \"ß\"\n",
        "                resposta_correta_normalizada = exercicio[\"resposta\"].lower().replace(\"ß\", \"ss\")\n",
        "                resposta_usuario_normalizada = resposta_usuario.lower().replace(\"ß\", \"ss\")\n",
        "\n",
        "                if resposta_usuario.lower() == exercicio[\"resposta\"].lower():\n",
        "                    md(\"**Correto! 👍**\")\n",
        "                else:\n",
        "                    md(f\"**Incorreto.** 😔 A resposta correta é: **{exercicio['resposta']}** (Lembre-se que você pode usar 'ss' no lugar de 'ß')\")\n",
        "            else:\n",
        "                md(\"Desculpe, ainda não há exercícios para este tópico.\")\n",
        "        elif escolha_topico == 'voltar':\n",
        "            break\n",
        "        else:\n",
        "            md('**Opção inválida.** Por favor, digite o número do tópico ou \"voltar\".')\n",
        "    while True:\n",
        "        escolha_gramatica = input(\"Você: \").lower()\n",
        "\n",
        "        if escolha_gramatica == '1':\n",
        "            md(\"## Os Casos (Nominativo, Acusativo, Dativo, Genitivo)\")\n",
        "\n",
        "            while True:\n",
        "              if exercicios_casos: # Verifica se há exercícios disponíveis\n",
        "                  exercicio = random.choice(exercicios_casos)\n",
        "                  md(exercicio[\"pergunta\"])\n",
        "                  if \"opcoes\" in exercicio:\n",
        "                    md(f\"Opções: {', '.join(exercicio['opcoes'])}\")\n",
        "                  resposta_usuario = input(\"Sua resposta: \")\n",
        "                  resposta_correta_normalizada = exercicio[\"resposta\"].lower().replace(\"ß\", \"ss\")\n",
        "                  resposta_usuario_normalizada = resposta_usuario.lower().replace(\"ß\", \"ss\")\n",
        "\n",
        "                  if resposta_usuario_normalizada == resposta_correta_normalizada:\n",
        "                    md(\"**Correto! 👍**\")\n",
        "                  else:\n",
        "                    md(f\"**Incorreto.** 😔 A resposta correta é: **{exercicio['resposta']}** (Lembre-se que você pode usar 'ss' no lugar de 'ß')\")\n",
        "              else:\n",
        "                md(\"Desculpe, não há mais exercícios disponíveis.\")\n",
        "                break\n",
        "\n",
        "        elif escolha_gramatica == '2':\n",
        "            md(\"## Conjugação de Verbos Regulares\")\n",
        "\n",
        "            while True:\n",
        "              if exercicios_casos: # Verifica se há exercícios disponíveis\n",
        "                  exercicio = random.choice(exercicios_verbos_regulares)\n",
        "                  md(exercicio[\"pergunta\"])\n",
        "                  if \"opcoes\" in exercicio:\n",
        "                    md(f\"Opções: {', '.join(exercicio['opcoes'])}\")\n",
        "                  resposta_usuario = input(\"Sua resposta: \")\n",
        "                  resposta_correta_normalizada = exercicio[\"resposta\"].lower().replace(\"ß\", \"ss\")\n",
        "                  resposta_usuario_normalizada = resposta_usuario.lower().replace(\"ß\", \"ss\")\n",
        "\n",
        "                  if resposta_usuario_normalizada == resposta_correta_normalizada:\n",
        "                    md(\"**Correto! 👍**\")\n",
        "                  else:\n",
        "                    md(f\"**Incorreto.** 😔 A resposta correta é: **{exercicio['resposta']}** (Lembre-se que você pode usar 'ss' no lugar de 'ß')\")\n",
        "              else:\n",
        "                md(\"Desculpe, não há mais exercícios disponíveis.\")\n",
        "                break\n",
        "\n",
        "        elif escolha_gramatica == '3':\n",
        "           md(\"## Conjugação de Verbos Irregulares (Fortes)\")\n",
        "\n",
        "           while True:\n",
        "              if exercicios_casos: # Verifica se há exercícios disponíveis\n",
        "                  exercicio = random.choice(exercicios_verbos_irregulares)\n",
        "                  md(exercicio[\"pergunta\"])\n",
        "                  if \"opcoes\" in exercicio:\n",
        "                    md(f\"Opções: {', '.join(exercicio['opcoes'])}\")\n",
        "                  resposta_usuario = input(\"Sua resposta: \")\n",
        "                  resposta_correta_normalizada = exercicio[\"resposta\"].lower().replace(\"ß\", \"ss\")\n",
        "                  resposta_usuario_normalizada = resposta_usuario.lower().replace(\"ß\", \"ss\")\n",
        "\n",
        "                  if resposta_usuario_normalizada == resposta_correta_normalizada:\n",
        "                    md(\"**Correto! 👍**\")\n",
        "                  else:\n",
        "                    md(f\"**Incorreto.** 😔 A resposta correta é: **{exercicio['resposta']}** (Lembre-se que você pode usar 'ss' no lugar de 'ß')\")\n",
        "              else:\n",
        "                md(\"Desculpe, não há mais exercícios disponíveis.\")\n",
        "                break\n",
        "\n",
        "        elif escolha_gramatica == '4':\n",
        "            md(\"## Artigos Definidos e Indefinidos\")\n",
        "\n",
        "            while True:\n",
        "              if exercicios_casos: # Verifica se há exercícios disponíveis\n",
        "                  exercicio = random.choice(exercicios_artigos)\n",
        "                  md(exercicio[\"pergunta\"])\n",
        "                  if \"opcoes\" in exercicio:\n",
        "                    md(f\"Opções: {', '.join(exercicio['opcoes'])}\")\n",
        "                  resposta_usuario = input(\"Sua resposta: \")\n",
        "                  resposta_correta_normalizada = exercicio[\"resposta\"].lower().replace(\"ß\", \"ss\")\n",
        "                  resposta_usuario_normalizada = resposta_usuario.lower().replace(\"ß\", \"ss\")\n",
        "\n",
        "                  if resposta_usuario_normalizada == resposta_correta_normalizada:\n",
        "                    md(\"**Correto! 👍**\")\n",
        "                  else:\n",
        "                    md(f\"**Incorreto.** 😔 A resposta correta é: **{exercicio['resposta']}** (Lembre-se que você pode usar 'ss' no lugar de 'ß')\")\n",
        "              else:\n",
        "                md(\"Desculpe, não há mais exercícios disponíveis.\")\n",
        "                break\n",
        "\n",
        "        elif escolha_gramatica == '5':\n",
        "            md(\"## Ordem das Palavras na Frase Principal\")\n",
        "\n",
        "            while True:\n",
        "              if exercicios_casos: # Verifica se há exercícios disponíveis\n",
        "                  exercicio = random.choice(exercicios_ordem_palavras_principal)\n",
        "                  md(exercicio[\"pergunta\"])\n",
        "                  if \"opcoes\" in exercicio:\n",
        "                    md(f\"Opções: {', '.join(exercicio['opcoes'])}\")\n",
        "                  resposta_usuario = input(\"Sua resposta: \")\n",
        "                  resposta_correta_normalizada = exercicio[\"resposta\"].lower().replace(\"ß\", \"ss\")\n",
        "                  resposta_usuario_normalizada = resposta_usuario.lower().replace(\"ß\", \"ss\")\n",
        "\n",
        "                  if resposta_usuario_normalizada == resposta_correta_normalizada:\n",
        "                    md(\"**Correto! 👍**\")\n",
        "                  else:\n",
        "                    md(f\"**Incorreto.** 😔 A resposta correta é: **{exercicio['resposta']}** (Lembre-se que você pode usar 'ss' no lugar de 'ß')\")\n",
        "              else:\n",
        "                md(\"Desculpe, não há mais exercícios disponíveis.\")\n",
        "                break\n",
        "\n",
        "        elif escolha_gramatica == '6':\n",
        "            md(\"## Ordem das Palavras na Oração Subordinada\")\n",
        "\n",
        "            while True:\n",
        "              if exercicios_casos: # Verifica se há exercícios disponíveis\n",
        "                  exercicio = random.choice(exercicios_ordem_palavras_subordinada)\n",
        "                  md(exercicio[\"pergunta\"])\n",
        "                  if \"opcoes\" in exercicio:\n",
        "                    md(f\"Opções: {', '.join(exercicio['opcoes'])}\")\n",
        "                  resposta_usuario = input(\"Sua resposta: \")\n",
        "                  resposta_correta_normalizada = exercicio[\"resposta\"].lower().replace(\"ß\", \"ss\")\n",
        "                  resposta_usuario_normalizada = resposta_usuario.lower().replace(\"ß\", \"ss\")\n",
        "\n",
        "                  if resposta_usuario_normalizada == resposta_correta_normalizada:\n",
        "                    md(\"**Correto! 👍**\")\n",
        "                  else:\n",
        "                    md(f\"**Incorreto.** 😔 A resposta correta é: **{exercicio['resposta']}** (Lembre-se que você pode usar 'ss' no lugar de 'ß')\")\n",
        "              else:\n",
        "                md(\"Desculpe, não há mais exercícios disponíveis.\")\n",
        "                break\n",
        "        elif escolha_gramatica == 'voltar':\n",
        "            md('Voltando ao menu principal...')\n",
        "            break\n",
        "        else:\n",
        "            md('**Opção inválida.** Por favor, digite um número entre 1 e 6.')\n",
        "\n",
        "# Escolha da opção 3: Vocabulário\n",
        "def lidar_vocabulario():\n",
        "    md('## 📖 Vocabulário')\n",
        "    md('1. **Palavras mágicas**')\n",
        "    md('2. **Frases indispensáveis**')\n",
        "    md('3. **Saudações**')\n",
        "    md('4. **Como se apresentar**')\n",
        "    md('5. **Verbos fracos, fortes e mistos**')\n",
        "    md('6. **Declinações**')\n",
        "    md('7. **Formas do plural**')\n",
        "    md('8. **Adjetivos possessivos e numéricos**')\n",
        "    md('9. **Referências espaciais e temporais**')\n",
        "    md('10. **Substantivos**')\n",
        "    md('11. **Pronomes**')\n",
        "    md('12. **Adjetivos**')\n",
        "    md('13. **Advérbios**')\n",
        "    md('14. **Preposições**')\n",
        "    md('15. **Conjunções**')\n",
        "    md('**Por favor, digite o número da sua escolha:**')\n",
        "\n",
        "    while True:\n",
        "        escolha_vocabulario = input(\"Você: \")\n",
        "        if escolha_vocabulario.isdigit() and 1 <= int(escolha_vocabulario) <= 15:\n",
        "          topicos = {\n",
        "              1: \"Palavras mágicas\", 2: \"Frases indispensáveis\", 3: \"Saudações\",\n",
        "              4: \"Como se apresentar\", 5: \"Verbos fracos, fortes e mistos\", 6: \"Declinações\",\n",
        "              7: \"Formas do plural\", 8: \"Adjetivos possessivos e numéricos\", 9: \"Referências espaciais e temporais\",\n",
        "              10: \"Substantivos\", 11: \"Pronomes\", 12: \"Adjetivos\", 13: \"Advérbios\",\n",
        "              14: \"Preposições\", 15: \"Conjunções\"\n",
        "            }\n",
        "          topico_escolhido_nome = topicos.get(int(escolha_vocabulario), \"Tópico de vocabulário genérico\")\n",
        "          mensagem_para_agente = f\"Explique sobre: {topico_escolhido_nome}\"\n",
        "          response_iterator = runner.query(query=mensagem_para_agente, agent_name='agente_vocabulario')\n",
        "          for response in response_iterator:\n",
        "                 md(f\"**Agente Vocabulário:** {response.text}\")\n",
        "\n",
        "        elif escolha_vocabulario.lower() == \"voltar\":\n",
        "            md(\"Voltando ao menu principal...\")\n",
        "            break\n",
        "        else:\n",
        "            md(\"**Opção inválida.** Por favor, digite um número entre 1 e 15.\")\n",
        "\n",
        "\n",
        "# Escolha da opção 4: Curiosidades\n",
        "def lidar_curiosidades():\n",
        "      md('## 🥨 Curiosidades')\n",
        "      md('1. **Dialetos Vivos**')\n",
        "      md('2. **Cultura na Língua**')\n",
        "      md('3. **Evolução Curiosa**')\n",
        "      md('4. **Influências Estrangeiras**')\n",
        "      md('5. **Fatos Regionais**')\n",
        "      md('**Por favor, digite o número da sua escolha:**')\n",
        "\n",
        "      while True:\n",
        "        escolha_curiosidades = input(\"Você: \")\n",
        "      if escolha_curiosidades.isdigit() and 1 <= int(escolha_curiosidades) <= 5:\n",
        "        topicos_curiosidades = {\n",
        "            1: \"Dialetos Vivos\", 2: \"Cultura na Língua\", 3: \"Evolução Curiosa\",\n",
        "            4: \"Influências Estrangeiras\", 5: \"Fatos Regionais\"\n",
        "        }\n",
        "        topico_escolhido_nome = topicos_curiosidades.get(int(escolha_curiosidades), \"Curiosidade geral\")\n",
        "        mensagem_para_agente = f\"Conte uma curiosidade sobre: {topico_escolhido_nome}\"\n",
        "        response_iterator = runner.query(query=mensagem_para_agente, agent_name='agente_curiosidades')\n",
        "        for response in response_iterator:\n",
        "          md(f\"**Agente Curiosidades:** {response.text}\")\n",
        "\n",
        "      elif escolha_curiosidades.lower() == \"voltar\":\n",
        "          md(\"Voltando ao menu principal...\")\n",
        "          break\n",
        "      else:\n",
        "          md(\"**Opção inválida.** Por favor, digite um número entre 1 e 5.\")\n",
        "\n",
        "def obter_escolha():\n",
        "    while True:\n",
        "        try:\n",
        "            escolha = int(input('Digite um número da sua escolha: '))\n",
        "            if 1 <= escolha <= 4:\n",
        "                return escolha\n",
        "            else:\n",
        "                md('**Opção inválida.** Por favor, digite um número entre 1 e 4.')\n",
        "        except ValueError:\n",
        "            md('**Entrada inválida.** Por favor, digite um número.')"
      ],
      "metadata": {
        "id": "vwU_sSv5ii43",
        "colab": {
          "base_uri": "https://localhost:8080/",
          "height": 211
        },
        "outputId": "35abf160-4e5a-4be2-9ad2-35f610f422a0"
      },
      "execution_count": null,
      "outputs": [
        {
          "output_type": "error",
          "ename": "TypeError",
          "evalue": "Runner.__init__() got an unexpected keyword argument 'agents'",
          "traceback": [
            "\u001b[0;31m---------------------------------------------------------------------------\u001b[0m",
            "\u001b[0;31mTypeError\u001b[0m                                 Traceback (most recent call last)",
            "\u001b[0;32m<ipython-input-127-37704510fcb3>\u001b[0m in \u001b[0;36m<cell line: 0>\u001b[0;34m()\u001b[0m\n\u001b[1;32m      3\u001b[0m \u001b[0;31m# Crie uma instância do SessionService e Runner\u001b[0m\u001b[0;34m\u001b[0m\u001b[0;34m\u001b[0m\u001b[0m\n\u001b[1;32m      4\u001b[0m \u001b[0msession_service\u001b[0m \u001b[0;34m=\u001b[0m \u001b[0mInMemorySessionService\u001b[0m\u001b[0;34m(\u001b[0m\u001b[0;34m)\u001b[0m\u001b[0;34m\u001b[0m\u001b[0;34m\u001b[0m\u001b[0m\n\u001b[0;32m----> 5\u001b[0;31m runner = Runner(\n\u001b[0m\u001b[1;32m      6\u001b[0m     \u001b[0msession_service\u001b[0m\u001b[0;34m=\u001b[0m\u001b[0msession_service\u001b[0m\u001b[0;34m,\u001b[0m\u001b[0;34m\u001b[0m\u001b[0;34m\u001b[0m\u001b[0m\n\u001b[1;32m      7\u001b[0m     \u001b[0mapp_name\u001b[0m\u001b[0;34m=\u001b[0m\u001b[0;34m\"GermanTutorApp\"\u001b[0m\u001b[0;34m,\u001b[0m\u001b[0;34m\u001b[0m\u001b[0;34m\u001b[0m\u001b[0m\n",
            "\u001b[0;31mTypeError\u001b[0m: Runner.__init__() got an unexpected keyword argument 'agents'"
          ]
        }
      ]
    },
    {
      "cell_type": "markdown",
      "source": [
        "  elif escolha_vocabulario == 1:\n",
        "            md('**Palavras mágicas**')\n",
        "        elif escolha_vocabulario == 2:\n",
        "            md('**Frases indispensáveis**')\n",
        "        elif escolha_vocabulario == 3:\n",
        "            md('**Saudações**')\n",
        "        elif escolha_vocabulario == 4:\n",
        "            md('**Como se apresentar**')\n",
        "        elif escolha_vocabulario == 5:\n",
        "            md('**Verbos fracos, fortes e mistos**')\n",
        "        elif escolha_vocabulario == 6:\n",
        "          md('**Declinações**')\n",
        "        elif escolha_vocabulario == 7:\n",
        "          md('**Formas do plural**')\n",
        "        elif escolha_vocabulario == 8:\n",
        "          md('**Adjetivos possessivos e numéricos**')\n",
        "        elif escolha_vocabulario == 9:\n",
        "          md('**Referências espaciais e temporais**')\n",
        "        elif escolha_vocabulario == 10:\n",
        "          md('**Substantivos**')\n",
        "        elif escolha_vocabulario == 11:\n",
        "          md('**Pronomes**')\n",
        "        elif escolha_vocabulario == 12:\n",
        "          md('**Adjetivos**')\n",
        "        elif escolha_vocabulario == 13:\n",
        "          md('**Advérbios**')\n",
        "        elif escolha_vocabulario == 14:\n",
        "          md('**Preposições**')\n",
        "        elif escolha_vocabulario == 15:\n",
        "          md('**Conjunções**')\n",
        "\n",
        "\n",
        "          elif escolha_curiosidades == 1:\n",
        "          md('**Dialetos Vivos**')\n",
        "      elif escolha_curiosidades == 2:\n",
        "          md('**Cultura na Língua**')\n",
        "      elif escolha_curiosidades == 3:\n",
        "          md('**Evolução Curiosa**')\n",
        "      elif escolha_curiosidades == 4:\n",
        "          md('**Influências Estrangeiras**')\n",
        "      elif escolha_curiosidades == 5:\n",
        "          md('**Fatos Regionais**')"
      ],
      "metadata": {
        "id": "PCSfvi1NOX59"
      }
    },
    {
      "cell_type": "markdown",
      "source": [
        "## ❗**Programa Principal** ❗"
      ],
      "metadata": {
        "id": "JFq0TBlMZ0ib"
      }
    },
    {
      "cell_type": "code",
      "source": [
        "md('Olá! 👋 Bem vindo ao seu tutor de Alemão!')\n",
        "\n",
        "while True:\n",
        "    exibir_menu()\n",
        "    escolha = obter_escolha()\n",
        "\n",
        "    if escolha == 1:\n",
        "        lidar_conversacao()\n",
        "    elif escolha == 2:\n",
        "        lidar_gramatica()\n",
        "    elif escolha == 3:\n",
        "        lidar_vocabulario()\n",
        "    elif escolha == 4:\n",
        "        lidar_curiosidades()\n",
        "\n",
        "    continuar = input(\"Deseja aprender mais? (sim/não): \").lower()\n",
        "    if continuar != 'sim':\n",
        "        md('Auf Wiedersehen! 👋')\n",
        "        break"
      ],
      "metadata": {
        "id": "rg6vpq-kaC6P",
        "colab": {
          "base_uri": "https://localhost:8080/",
          "height": 1000
        },
        "outputId": "9808873d-cbae-4dc9-f9ef-6f4de8e4bcb5"
      },
      "execution_count": null,
      "outputs": [
        {
          "output_type": "display_data",
          "data": {
            "text/plain": [
              "<IPython.core.display.Markdown object>"
            ],
            "text/markdown": "Olá! 👋 Bem vindo ao seu tutor de Alemão!"
          },
          "metadata": {}
        },
        {
          "output_type": "display_data",
          "data": {
            "text/plain": [
              "<IPython.core.display.Markdown object>"
            ],
            "text/markdown": "**Você quer aprender sobre qual tópico hoje?**"
          },
          "metadata": {}
        },
        {
          "output_type": "display_data",
          "data": {
            "text/plain": [
              "<IPython.core.display.Markdown object>"
            ],
            "text/markdown": "1. **Conversação:** Aprenda frases úteis para o dia a dia"
          },
          "metadata": {}
        },
        {
          "output_type": "display_data",
          "data": {
            "text/plain": [
              "<IPython.core.display.Markdown object>"
            ],
            "text/markdown": "2. **Gramática:** Entenda as regras básicas da língua"
          },
          "metadata": {}
        },
        {
          "output_type": "display_data",
          "data": {
            "text/plain": [
              "<IPython.core.display.Markdown object>"
            ],
            "text/markdown": "3. **Vocabulário:** Descubra novas palavras e expressões"
          },
          "metadata": {}
        },
        {
          "output_type": "display_data",
          "data": {
            "text/plain": [
              "<IPython.core.display.Markdown object>"
            ],
            "text/markdown": "4. **Curiosidades:** Explore a cultura alemã!"
          },
          "metadata": {}
        },
        {
          "output_type": "display_data",
          "data": {
            "text/plain": [
              "<IPython.core.display.Markdown object>"
            ],
            "text/markdown": "**Por favor, digite o número da sua escolha:**"
          },
          "metadata": {}
        },
        {
          "name": "stdout",
          "output_type": "stream",
          "text": [
            "Digite um número da sua escolha: 3\n"
          ]
        },
        {
          "output_type": "display_data",
          "data": {
            "text/plain": [
              "<IPython.core.display.Markdown object>"
            ],
            "text/markdown": "## 📖 Vocabulário"
          },
          "metadata": {}
        },
        {
          "output_type": "display_data",
          "data": {
            "text/plain": [
              "<IPython.core.display.Markdown object>"
            ],
            "text/markdown": "1. **Palavras mágicas**"
          },
          "metadata": {}
        },
        {
          "output_type": "display_data",
          "data": {
            "text/plain": [
              "<IPython.core.display.Markdown object>"
            ],
            "text/markdown": "2. **Frases indispensáveis**"
          },
          "metadata": {}
        },
        {
          "output_type": "display_data",
          "data": {
            "text/plain": [
              "<IPython.core.display.Markdown object>"
            ],
            "text/markdown": "3. **Saudações**"
          },
          "metadata": {}
        },
        {
          "output_type": "display_data",
          "data": {
            "text/plain": [
              "<IPython.core.display.Markdown object>"
            ],
            "text/markdown": "4. **Como se apresentar**"
          },
          "metadata": {}
        },
        {
          "output_type": "display_data",
          "data": {
            "text/plain": [
              "<IPython.core.display.Markdown object>"
            ],
            "text/markdown": "5. **Verbos fracos, fortes e mistos**"
          },
          "metadata": {}
        },
        {
          "output_type": "display_data",
          "data": {
            "text/plain": [
              "<IPython.core.display.Markdown object>"
            ],
            "text/markdown": "6. **Declinações**"
          },
          "metadata": {}
        },
        {
          "output_type": "display_data",
          "data": {
            "text/plain": [
              "<IPython.core.display.Markdown object>"
            ],
            "text/markdown": "7. **Formas do plural**"
          },
          "metadata": {}
        },
        {
          "output_type": "display_data",
          "data": {
            "text/plain": [
              "<IPython.core.display.Markdown object>"
            ],
            "text/markdown": "8. **Adjetivos possessivos e numéricos**"
          },
          "metadata": {}
        },
        {
          "output_type": "display_data",
          "data": {
            "text/plain": [
              "<IPython.core.display.Markdown object>"
            ],
            "text/markdown": "9. **Referências espaciais e temporais**"
          },
          "metadata": {}
        },
        {
          "output_type": "display_data",
          "data": {
            "text/plain": [
              "<IPython.core.display.Markdown object>"
            ],
            "text/markdown": "10. **Substantivos**"
          },
          "metadata": {}
        },
        {
          "output_type": "display_data",
          "data": {
            "text/plain": [
              "<IPython.core.display.Markdown object>"
            ],
            "text/markdown": "11. **Pronomes**"
          },
          "metadata": {}
        },
        {
          "output_type": "display_data",
          "data": {
            "text/plain": [
              "<IPython.core.display.Markdown object>"
            ],
            "text/markdown": "12. **Adjetivos**"
          },
          "metadata": {}
        },
        {
          "output_type": "display_data",
          "data": {
            "text/plain": [
              "<IPython.core.display.Markdown object>"
            ],
            "text/markdown": "13. **Advérbios**"
          },
          "metadata": {}
        },
        {
          "output_type": "display_data",
          "data": {
            "text/plain": [
              "<IPython.core.display.Markdown object>"
            ],
            "text/markdown": "14. **Preposições**"
          },
          "metadata": {}
        },
        {
          "output_type": "display_data",
          "data": {
            "text/plain": [
              "<IPython.core.display.Markdown object>"
            ],
            "text/markdown": "15. **Conjunções**"
          },
          "metadata": {}
        },
        {
          "output_type": "display_data",
          "data": {
            "text/plain": [
              "<IPython.core.display.Markdown object>"
            ],
            "text/markdown": "**Por favor, digite o número da sua escolha:**"
          },
          "metadata": {}
        },
        {
          "name": "stdout",
          "output_type": "stream",
          "text": [
            "Você: 12\n"
          ]
        },
        {
          "output_type": "error",
          "ename": "AttributeError",
          "evalue": "'LlmAgent' object has no attribute 'send_message'",
          "traceback": [
            "\u001b[0;31m---------------------------------------------------------------------------\u001b[0m",
            "\u001b[0;31mAttributeError\u001b[0m                            Traceback (most recent call last)",
            "\u001b[0;32m<ipython-input-112-60b04d9a53c4>\u001b[0m in \u001b[0;36m<cell line: 0>\u001b[0;34m()\u001b[0m\n\u001b[1;32m     10\u001b[0m         \u001b[0mlidar_gramatica\u001b[0m\u001b[0;34m(\u001b[0m\u001b[0;34m)\u001b[0m\u001b[0;34m\u001b[0m\u001b[0;34m\u001b[0m\u001b[0m\n\u001b[1;32m     11\u001b[0m     \u001b[0;32melif\u001b[0m \u001b[0mescolha\u001b[0m \u001b[0;34m==\u001b[0m \u001b[0;36m3\u001b[0m\u001b[0;34m:\u001b[0m\u001b[0;34m\u001b[0m\u001b[0;34m\u001b[0m\u001b[0m\n\u001b[0;32m---> 12\u001b[0;31m         \u001b[0mlidar_vocabulario\u001b[0m\u001b[0;34m(\u001b[0m\u001b[0;34m)\u001b[0m\u001b[0;34m\u001b[0m\u001b[0;34m\u001b[0m\u001b[0m\n\u001b[0m\u001b[1;32m     13\u001b[0m     \u001b[0;32melif\u001b[0m \u001b[0mescolha\u001b[0m \u001b[0;34m==\u001b[0m \u001b[0;36m4\u001b[0m\u001b[0;34m:\u001b[0m\u001b[0;34m\u001b[0m\u001b[0;34m\u001b[0m\u001b[0m\n\u001b[1;32m     14\u001b[0m         \u001b[0mlidar_curiosidades\u001b[0m\u001b[0;34m(\u001b[0m\u001b[0;34m)\u001b[0m\u001b[0;34m\u001b[0m\u001b[0;34m\u001b[0m\u001b[0m\n",
            "\u001b[0;32m<ipython-input-111-4ee83130006f>\u001b[0m in \u001b[0;36mlidar_vocabulario\u001b[0;34m()\u001b[0m\n\u001b[1;32m    268\u001b[0m         \u001b[0;32melse\u001b[0m\u001b[0;34m:\u001b[0m\u001b[0;34m\u001b[0m\u001b[0;34m\u001b[0m\u001b[0m\n\u001b[1;32m    269\u001b[0m             \u001b[0mmd\u001b[0m\u001b[0;34m(\u001b[0m\u001b[0;34m\"**Opção inválida.** Por favor, digite um número entre 1 e 15.\"\u001b[0m\u001b[0;34m)\u001b[0m\u001b[0;34m\u001b[0m\u001b[0;34m\u001b[0m\u001b[0m\n\u001b[0;32m--> 270\u001b[0;31m         \u001b[0mresposta_agente\u001b[0m \u001b[0;34m=\u001b[0m \u001b[0magente_vocabulario\u001b[0m\u001b[0;34m.\u001b[0m\u001b[0msend_message\u001b[0m\u001b[0;34m(\u001b[0m\u001b[0mtopico\u001b[0m\u001b[0;34m)\u001b[0m\u001b[0;34m\u001b[0m\u001b[0;34m\u001b[0m\u001b[0m\n\u001b[0m\u001b[1;32m    271\u001b[0m \u001b[0;34m\u001b[0m\u001b[0m\n\u001b[1;32m    272\u001b[0m \u001b[0;31m# Escolha da opção 4: Curiosidades\u001b[0m\u001b[0;34m\u001b[0m\u001b[0;34m\u001b[0m\u001b[0m\n",
            "\u001b[0;32m/usr/local/lib/python3.11/dist-packages/pydantic/main.py\u001b[0m in \u001b[0;36m__getattr__\u001b[0;34m(self, item)\u001b[0m\n\u001b[1;32m    987\u001b[0m                     \u001b[0;32melse\u001b[0m\u001b[0;34m:\u001b[0m\u001b[0;34m\u001b[0m\u001b[0;34m\u001b[0m\u001b[0m\n\u001b[1;32m    988\u001b[0m                         \u001b[0;31m# this is the current error\u001b[0m\u001b[0;34m\u001b[0m\u001b[0;34m\u001b[0m\u001b[0m\n\u001b[0;32m--> 989\u001b[0;31m                         \u001b[0;32mraise\u001b[0m \u001b[0mAttributeError\u001b[0m\u001b[0;34m(\u001b[0m\u001b[0;34mf'{type(self).__name__!r} object has no attribute {item!r}'\u001b[0m\u001b[0;34m)\u001b[0m\u001b[0;34m\u001b[0m\u001b[0;34m\u001b[0m\u001b[0m\n\u001b[0m\u001b[1;32m    990\u001b[0m \u001b[0;34m\u001b[0m\u001b[0m\n\u001b[1;32m    991\u001b[0m         \u001b[0;32mdef\u001b[0m \u001b[0m__setattr__\u001b[0m\u001b[0;34m(\u001b[0m\u001b[0mself\u001b[0m\u001b[0;34m,\u001b[0m \u001b[0mname\u001b[0m\u001b[0;34m:\u001b[0m \u001b[0mstr\u001b[0m\u001b[0;34m,\u001b[0m \u001b[0mvalue\u001b[0m\u001b[0;34m:\u001b[0m \u001b[0mAny\u001b[0m\u001b[0;34m)\u001b[0m \u001b[0;34m->\u001b[0m \u001b[0;32mNone\u001b[0m\u001b[0;34m:\u001b[0m\u001b[0;34m\u001b[0m\u001b[0;34m\u001b[0m\u001b[0m\n",
            "\u001b[0;31mAttributeError\u001b[0m: 'LlmAgent' object has no attribute 'send_message'"
          ]
        }
      ]
    }
  ]
}